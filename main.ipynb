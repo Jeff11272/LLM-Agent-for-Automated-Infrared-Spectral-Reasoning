{
 "cells": [
  {
   "cell_type": "code",
   "execution_count": null,
   "id": "886ebd7a",
   "metadata": {},
   "outputs": [
    {
     "name": "stdout",
     "output_type": "stream",
     "text": [
      "(3, 50, 228)\n"
     ]
    }
   ],
   "source": [
    "# Input question and data\n",
    "\n",
    "import numpy as np\n",
    "input_question = \"I'm going to classify the following chinese medicine spectral data.\"\n",
    "# input_question = \"I'm going to predict the waste water spectral data quality of COD.\"\n",
    "\n",
    "data = np.load(r'data\\cn_medicine.npy')\n",
    "# data = np.load(r'data\\H2Olabel_cs.npy')\n",
    "\n",
    "print(data.shape)"
   ]
  },
  {
   "cell_type": "code",
   "execution_count": null,
   "id": "1a088187",
   "metadata": {},
   "outputs": [
    {
     "name": "stdout",
     "output_type": "stream",
     "text": [
      "Research object: chinese medicine spectral data\n",
      "Task type: classification\n"
     ]
    }
   ],
   "source": [
    "# Entity extraction\n",
    "\n",
    "import Entity_extraction\n",
    "extracted = Entity_extraction.extract_entities_and_task(input_question)\n",
    "\n",
    "research_object = extracted['research_object']\n",
    "task_type       = extracted['task_type']\n",
    "\n",
    "print(\"Research object:\", research_object)\n",
    "print(\"Task type:\", task_type)"
   ]
  },
  {
   "cell_type": "code",
   "execution_count": null,
   "id": "878e17bb",
   "metadata": {},
   "outputs": [
    {
     "name": "stdout",
     "output_type": "stream",
     "text": [
      "Paper_Name: Classification of Chinese Herbal Medicine by Laser-Induced Breakdown Spectroscopy with Principal Component Analysis and Artificial Neural Network\n",
      "Relevant Scores: 6.801548501114336\n",
      "Paper_Name: Application of handheld near infrared spectrometer in quality control of traditional Chinese medicine: Rapid screening and quantitative analysis of Lonicerae Japonicae Flos adulteration\n",
      "Relevant Scores: 5.6501807410146805\n",
      "[{'paper_name': 'Classification of Chinese Herbal Medicine by Laser-Induced Breakdown Spectroscopy with Principal Component Analysis and Artificial Neural Network', 'preprocessing_method': 'SNVFD', 'feature_extracting_method': 'principal component analysis (PCA)'}, {'paper_name': 'Application of handheld near infrared spectrometer in quality control of traditional Chinese medicine: Rapid screening and quantitative analysis of Lonicerae Japonicae Flos adulteration', 'preprocessing_method': 'SNVFD', 'feature_extracting_method': 'CARS'}]\n"
     ]
    }
   ],
   "source": [
    "# Knowledge Retrieval\n",
    "\n",
    "import Retrieval\n",
    "\n",
    "json_path = \"./structured_papers1.json\"\n",
    "papers_list = Retrieval.load_papers_from_json(json_path)\n",
    "bm25_index, tokenized_names = Retrieval.build_bm25_index(papers_list)\n",
    "top_k = 2\n",
    "matched_info = Retrieval.search_papers_with_bm25(\n",
    "    papers=papers_list,\n",
    "    bm25=bm25_index,\n",
    "    tokenized_paper_names=tokenized_names,\n",
    "    query=research_object,\n",
    "    top_k=top_k\n",
    ")\n",
    "print(matched_info)"
   ]
  },
  {
   "cell_type": "code",
   "execution_count": null,
   "id": "756e5ac5",
   "metadata": {},
   "outputs": [
    {
     "name": "stdout",
     "output_type": "stream",
     "text": [
      "{'Classification of Chinese Herbal Medicine by Laser-Induced Breakdown Spectroscopy with Principal Component Analysis and Artificial Neural Network': {'preprocessing': ['snv_fd'], 'features': ['pca_feature_extraction']}, 'Application of handheld near infrared spectrometer in quality control of traditional Chinese medicine: Rapid screening and quantitative analysis of Lonicerae Japonicae Flos adulteration': {'preprocessing': ['snv_fd'], 'features': []}}\n",
      "(3, 50, 228)\n",
      "Feature 'pca_feature_extraction' shape: (3, 50, 5)\n"
     ]
    }
   ],
   "source": [
    "# Preprocess and feature extraction\n",
    "\n",
    "import Agent\n",
    "methods_map = Agent.decide_methods_per_paper(matched_info)\n",
    "print(methods_map)\n",
    "results = Agent.process_all_papers(data, methods_map)\n",
    "\n",
    "processed_data = results[matched_info[0]['paper_name']]['processed_data']\n",
    "print(processed_data.shape)\n",
    "features = results[matched_info[0]['paper_name']]['extracted_features']\n",
    "for fn, arr in features.items():\n",
    "    print(f\"Feature '{fn}' shape:\", arr.shape)"
   ]
  },
  {
   "cell_type": "code",
   "execution_count": null,
   "id": "76758dd2",
   "metadata": {},
   "outputs": [
    {
     "name": "stdout",
     "output_type": "stream",
     "text": [
      "Training samples: 18\n",
      "Validation samples: 6, labels: ['山银花金银花混合物', '金银花', '山银花', '金银花', '山银花', '山银花金银花混合物']\n",
      "Test samples: 6, labels: ['山银花', '金银花', '山银花金银花混合物', '山银花', '金银花', '山银花金银花混合物']\n"
     ]
    }
   ],
   "source": [
    "# Build dataset\n",
    "\n",
    "from dataset import CLS_Dataset,REG_Dataset,ANO_Dataset\n",
    "\n",
    "if task_type == 'classification':\n",
    "    dataset = CLS_Dataset(\n",
    "        feature=features['pca_feature_extraction'],\n",
    "        label_type='CN_medicine',\n",
    "        n_classes=3,\n",
    "        n_train_per_class=6,\n",
    "        n_val_per_class=2,\n",
    "        n_test_per_class=2,\n",
    "        random_seed=0\n",
    "    )\n",
    "    dataset.summary()\n",
    "    train_data = dataset.train_data\n",
    "    val_data   = dataset.val_data \n",
    "    test_data  = dataset.test_data\n",
    "\n",
    "    true_labels_val  = dataset.true_labels_val\n",
    "    true_labels_test = dataset.true_labels_test                                 \n",
    "\n",
    "elif task_type == 'regression':\n",
    "    X = features['lambert_pearson_feature_extraction']\n",
    "    Y = np.load('data\\water_label.npy')\n",
    "    dataset = REG_Dataset(\n",
    "    X=X,\n",
    "    Y=Y,\n",
    "    n_train=12,\n",
    "    n_val=10,\n",
    "    n_test=10,\n",
    "    random_seed=2\n",
    ")\n",
    "    dataset.summary()\n",
    "\n",
    "    train_data = dataset.train_data\n",
    "    val_data   = dataset.val_data\n",
    "    test_data  = dataset.test_data\n",
    "\n",
    "    y_val_true  = dataset.y_val_true\n",
    "    y_test_true = dataset.y_test_true\n",
    "\n",
    "elif task_type == 'anomaly detection':\n",
    "    ds = ANO_Dataset(\n",
    "        X = features['pca_feature_extraction'],\n",
    "        normal_class=2,\n",
    "        n_train_norm=4,\n",
    "        n_val_norm=1,\n",
    "        n_test_norm=3,\n",
    "        n_inter_anom=5,\n",
    "        n_intra_anom=2,\n",
    "        random_seed=0\n",
    "    )\n",
    "    ds.summary()\n",
    "    train_data = ds.train_data\n",
    "    val_data   = ds.val_data\n",
    "    test_data  = ds.test_data\n",
    "    y_val      = ds.y_val\n",
    "    y_test     = ds.y_test\n"
   ]
  },
  {
   "cell_type": "code",
   "execution_count": null,
   "id": "b84c0c75",
   "metadata": {},
   "outputs": [
    {
     "name": "stdout",
     "output_type": "stream",
     "text": [
      "=== Initial test set evaluation ===\n",
      "Initial test accuracy: 100.00%\n",
      "\\n=== Round 1 validation ===\n",
      "Validation predictions: ['山银花金银花混合物', '金银花', '山银花', '金银花', '山银花', '山银花金银花混合物']\n",
      "Validation accuracy: 100.00%, wrong indices: []\n",
      "Validation perfect, stopping early.\n",
      "Final best test accuracy: 100.00%\n"
     ]
    }
   ],
   "source": [
    "# Multi-task reasoning\n",
    "\n",
    "from Generate import SpectrumCLS,SpectrumReg,SpectrumAno\n",
    "\n",
    "if task_type == \"classification\":\n",
    "    agent_cls = SpectrumCLS(train_data=train_data,test_data=test_data,val_data=val_data,true_labels_val=true_labels_val,true_labels_test=true_labels_test,\n",
    "    api_key=\"...\"\n",
    "    )\n",
    "    agent_cls.run()\n",
    "elif task_type == \"regression\":\n",
    "    agent = SpectrumReg(\n",
    "    dataset=dataset,\n",
    "    api_key=\"...\"\n",
    ")\n",
    "    agent.run()\n",
    "elif task_type == 'anomaly detection':\n",
    "    agent = SpectrumAno(\n",
    "    dataset=ds,\n",
    "    api_key=\"...\"\n",
    ")\n",
    "    agent.run()"
   ]
  },
  {
   "cell_type": "code",
   "execution_count": null,
   "id": "b41cbc65",
   "metadata": {},
   "outputs": [
    {
     "name": "stderr",
     "output_type": "stream",
     "text": [
      "d:\\Conda\\envs\\pytorch\\Lib\\site-packages\\torch\\utils\\_pytree.py:185: FutureWarning: optree is installed but the version is too old to support PyTorch Dynamo in C++ pytree. C++ pytree support is disabled. Please consider upgrading optree using `python3 -m pip install --upgrade 'optree>=0.13.0'`.\n",
      "  warnings.warn(\n",
      "d:\\Conda\\envs\\pytorch\\Lib\\site-packages\\torch\\nn\\modules\\transformer.py:385: UserWarning: enable_nested_tensor is True, but self.use_nested_tensor is False because encoder_layer.self_attn.batch_first was not True(use batch_first for better inference performance)\n",
      "  warnings.warn(\n"
     ]
    },
    {
     "name": "stdout",
     "output_type": "stream",
     "text": [
      "SVM: Accuracy = 66.67%\n",
      "KNN: Accuracy = 66.67%\n",
      "RandomForest: Accuracy = 66.67%\n",
      "CNN1D: Accuracy = 66.67%\n",
      "Transformer: Accuracy = 33.33%\n"
     ]
    }
   ],
   "source": [
    "# Comparison with other models\n",
    "\n",
    "from other_models import ClassificationModelPipeline,RegressionModelPipeline,AnomalyModelPipeline\n",
    "\n",
    "if task_type =='classification':\n",
    "    pipeline = ClassificationModelPipeline(train_data, test_data)\n",
    "    results = pipeline.train_and_evaluate()\n",
    "\n",
    "elif task_type =='regression':\n",
    "    pipeline = RegressionModelPipeline(train_data, test_data)\n",
    "    results = pipeline.train_and_evaluate()\n",
    "    \n",
    "elif task_type == 'anomaly detection':\n",
    "    pipeline = AnomalyModelPipeline(ds.train_data, ds.test_data)\n",
    "    results =  pipeline.train_and_evaluate()"
   ]
  }
 ],
 "metadata": {
  "kernelspec": {
   "display_name": "pytorch",
   "language": "python",
   "name": "python3"
  },
  "language_info": {
   "codemirror_mode": {
    "name": "ipython",
    "version": 3
   },
   "file_extension": ".py",
   "mimetype": "text/x-python",
   "name": "python",
   "nbconvert_exporter": "python",
   "pygments_lexer": "ipython3",
   "version": "3.11.4"
  }
 },
 "nbformat": 4,
 "nbformat_minor": 5
}
